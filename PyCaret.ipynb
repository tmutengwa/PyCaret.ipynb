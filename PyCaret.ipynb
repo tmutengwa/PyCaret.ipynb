{
 "cells": [
  {
   "cell_type": "code",
   "execution_count": 1,
   "id": "9cbbf5b0-f9f7-4c10-ba9a-2854df47b7c4",
   "metadata": {},
   "outputs": [],
   "source": [
    "# pip install plotly"
   ]
  },
  {
   "cell_type": "code",
   "execution_count": 2,
   "id": "e5e15157",
   "metadata": {},
   "outputs": [],
   "source": [
    "#pip install statsmodels"
   ]
  },
  {
   "cell_type": "code",
   "execution_count": 3,
   "id": "0169ce5b",
   "metadata": {},
   "outputs": [],
   "source": [
    "#pip install streamlit"
   ]
  },
  {
   "cell_type": "code",
   "execution_count": 4,
   "id": "da555f43-d8d2-4fa5-b490-eabe303cbc00",
   "metadata": {},
   "outputs": [],
   "source": [
    "#pip install yfinance"
   ]
  },
  {
   "cell_type": "code",
   "execution_count": 5,
   "id": "f4521181-8fb5-4c1d-913e-c808fe9ebaec",
   "metadata": {},
   "outputs": [],
   "source": [
    "import yfinance as yf\n",
    "import pandas as pd\n",
    "import numpy as np\n",
    "from datetime import datetime, timedelta\n",
    "import plotly.express as px\n",
    "import plotly.graph_objects as go\n",
    "from statsmodels.tsa.statespace.varmax import VARMAX\n",
    "import pickle\n",
    "import streamlit as st\n",
    "import warnings\n",
    "warnings.filterwarnings('ignore')"
   ]
  },
  {
   "cell_type": "code",
   "execution_count": 6,
   "id": "b3422f2c-f746-4e87-ba0c-a694a33de718",
   "metadata": {},
   "outputs": [],
   "source": [
    "pd.set_option('display.max_rows', None)"
   ]
  },
  {
   "cell_type": "code",
   "execution_count": 7,
   "id": "706ad2e5-3983-4ecc-8e6d-74731e582f31",
   "metadata": {},
   "outputs": [],
   "source": [
    "# Fetch data\n",
    "def fetch_stock_data(ticker, start_date='2023-12-02', end_date='2023-12-10'):\n",
    "    stock = yf.Ticker(ticker)\n",
    "    df = stock.history(start=start_date, end=end_date, interval='1h')\n",
    "    return df\n",
    "\n",
    "# Calculate VWAP\n",
    "def calculate_vwap(df):\n",
    "    df['VWAP'] = (df['Close'] * df['Volume']).cumsum() / df['Volume'].cumsum()\n",
    "    return df\n",
    "\n",
    "# Prepare data for VARMAX\n",
    "def prepare_data(stock_data):\n",
    "    combined_data = pd.DataFrame()\n",
    "    for ticker in stock_data:\n",
    "        combined_data[f'{ticker}_close'] = stock_data[ticker]['Close']\n",
    "        combined_data[f'{ticker}_vwap'] = stock_data[ticker]['VWAP']\n",
    "    return combined_data"
   ]
  },
  {
   "cell_type": "code",
   "execution_count": 8,
   "id": "df2d2423-a624-46c2-8c2a-c7927462f506",
   "metadata": {},
   "outputs": [],
   "source": [
    "# Main function\n",
    "def main():\n",
    "    st.title('Stock Price Analysis and Forecasting')\n",
    "    \n",
    "    # Fetch and process data\n",
    "    tickers = ['APX.AX', 'TAH.AX']\n",
    "    stock_data = {}\n",
    "    \n",
    "    for ticker in tickers:\n",
    "        df = fetch_stock_data(ticker)\n",
    "        df = calculate_vwap(df)\n",
    "        stock_data[ticker] = df\n",
    "    \n",
    "    # Prepare data for modeling\n",
    "    model_data = prepare_data(stock_data)\n",
    "    \n",
    "    # Train VARMAX model\n",
    "    model = VARMAX(model_data, order=(1, 1))\n",
    "    model_fit = model.fit(disp=False)\n",
    "    \n",
    "    # Save model\n",
    "    with open('varmax_model.pkl', 'wb') as f:\n",
    "        pickle.dump(model_fit, f)\n",
    "    \n",
    "    # Predict next day\n",
    "    steps = 24  # 24 hours\n",
    "    forecast = model_fit.forecast(steps=steps)\n",
    "    \n",
    "    # Create plots\n",
    "    selected_ticker = st.selectbox('Select Stock:', tickers)\n",
    "    \n",
    "    fig = go.Figure()\n",
    "    \n",
    "    # Plot historical data\n",
    "    fig.add_trace(go.Scatter(\n",
    "        x=stock_data[selected_ticker].index,\n",
    "        y=stock_data[selected_ticker]['Close'],\n",
    "        name='Closing Price',\n",
    "        line=dict(color='blue')\n",
    "    ))\n",
    "    \n",
    "    fig.add_trace(go.Scatter(\n",
    "        x=stock_data[selected_ticker].index,\n",
    "        y=stock_data[selected_ticker]['VWAP'],\n",
    "        name='VWAP',\n",
    "        line=dict(color='red')\n",
    "    ))\n",
    "    \n",
    "    # Plot predictions\n",
    "    future_dates = pd.date_range(\n",
    "        start='2024-12-11 00:00:00',\n",
    "        end='2024-12-11 23:00:00',\n",
    "        freq='H'\n",
    "    )\n",
    "    \n",
    "    fig.add_trace(go.Scatter(\n",
    "        x=future_dates,\n",
    "        y=forecast[f'{selected_ticker}_close'],\n",
    "        name='Predicted Price',\n",
    "        line=dict(color='green', dash='dash')\n",
    "    ))\n",
    "    \n",
    "    fig.update_layout(\n",
    "        title=f'{selected_ticker} Stock Analysis',\n",
    "        xaxis_title='Date',\n",
    "        yaxis_title='Price',\n",
    "        template='plotly_white'\n",
    "    )\n",
    "    \n",
    "    st.plotly_chart(fig)\n",
    "    \n",
    "    # Display metrics\n",
    "    st.subheader('Forecast Metrics')\n",
    "    st.write('Last Closing Price:', stock_data[selected_ticker]['Close'].iloc[-1])\n",
    "    st.write('Predicted Closing Price (End of Next Day):', \n",
    "             forecast[f'{selected_ticker}_close'].iloc[-1])"
   ]
  },
  {
   "cell_type": "code",
   "execution_count": 9,
   "id": "b92d1898-d6b2-4063-8d9a-4393630bc724",
   "metadata": {},
   "outputs": [
    {
     "name": "stderr",
     "output_type": "stream",
     "text": [
      "2024-12-11 13:56:49.279 WARNING streamlit.runtime.scriptrunner_utils.script_run_context: Thread 'MainThread': missing ScriptRunContext! This warning can be ignored when running in bare mode.\n",
      "2024-12-11 13:56:49.581 \n",
      "  \u001b[33m\u001b[1mWarning:\u001b[0m to view this Streamlit app on a browser, run it with the following\n",
      "  command:\n",
      "\n",
      "    streamlit run /Users/tongaimutengwa/Library/Python/3.12/lib/python/site-packages/ipykernel_launcher.py [ARGUMENTS]\n",
      "2024-12-11 13:56:49.582 Thread 'MainThread': missing ScriptRunContext! This warning can be ignored when running in bare mode.\n",
      "2024-12-11 13:56:51.226 Thread 'MainThread': missing ScriptRunContext! This warning can be ignored when running in bare mode.\n",
      "2024-12-11 13:56:51.227 Thread 'MainThread': missing ScriptRunContext! This warning can be ignored when running in bare mode.\n",
      "2024-12-11 13:56:51.228 Thread 'MainThread': missing ScriptRunContext! This warning can be ignored when running in bare mode.\n",
      "2024-12-11 13:56:51.228 Thread 'MainThread': missing ScriptRunContext! This warning can be ignored when running in bare mode.\n",
      "2024-12-11 13:56:51.229 Session state does not function when running a script without `streamlit run`\n",
      "2024-12-11 13:56:51.230 Thread 'MainThread': missing ScriptRunContext! This warning can be ignored when running in bare mode.\n",
      "2024-12-11 13:56:51.231 Thread 'MainThread': missing ScriptRunContext! This warning can be ignored when running in bare mode.\n",
      "2024-12-11 13:56:51.585 Thread 'MainThread': missing ScriptRunContext! This warning can be ignored when running in bare mode.\n",
      "2024-12-11 13:56:51.585 Thread 'MainThread': missing ScriptRunContext! This warning can be ignored when running in bare mode.\n",
      "2024-12-11 13:56:51.586 Thread 'MainThread': missing ScriptRunContext! This warning can be ignored when running in bare mode.\n",
      "2024-12-11 13:56:51.587 Thread 'MainThread': missing ScriptRunContext! This warning can be ignored when running in bare mode.\n",
      "2024-12-11 13:56:51.588 Thread 'MainThread': missing ScriptRunContext! This warning can be ignored when running in bare mode.\n",
      "2024-12-11 13:56:51.588 Thread 'MainThread': missing ScriptRunContext! This warning can be ignored when running in bare mode.\n",
      "2024-12-11 13:56:51.589 Thread 'MainThread': missing ScriptRunContext! This warning can be ignored when running in bare mode.\n",
      "2024-12-11 13:56:51.590 Thread 'MainThread': missing ScriptRunContext! This warning can be ignored when running in bare mode.\n",
      "2024-12-11 13:56:51.590 Thread 'MainThread': missing ScriptRunContext! This warning can be ignored when running in bare mode.\n",
      "2024-12-11 13:56:51.591 Thread 'MainThread': missing ScriptRunContext! This warning can be ignored when running in bare mode.\n",
      "2024-12-11 13:56:51.591 Thread 'MainThread': missing ScriptRunContext! This warning can be ignored when running in bare mode.\n",
      "2024-12-11 13:56:51.592 Thread 'MainThread': missing ScriptRunContext! This warning can be ignored when running in bare mode.\n",
      "2024-12-11 13:56:51.592 Thread 'MainThread': missing ScriptRunContext! This warning can be ignored when running in bare mode.\n",
      "2024-12-11 13:56:51.593 Thread 'MainThread': missing ScriptRunContext! This warning can be ignored when running in bare mode.\n"
     ]
    }
   ],
   "source": [
    "if __name__ == '__main__':\n",
    "    main()"
   ]
  },
  {
   "cell_type": "code",
   "execution_count": null,
   "id": "3e206bb9-a5bc-4f01-b340-7dcee442c207",
   "metadata": {},
   "outputs": [],
   "source": []
  }
 ],
 "metadata": {
  "kernelspec": {
   "display_name": "Python 3",
   "language": "python",
   "name": "python3"
  },
  "language_info": {
   "codemirror_mode": {
    "name": "ipython",
    "version": 3
   },
   "file_extension": ".py",
   "mimetype": "text/x-python",
   "name": "python",
   "nbconvert_exporter": "python",
   "pygments_lexer": "ipython3",
   "version": "3.12.3"
  }
 },
 "nbformat": 4,
 "nbformat_minor": 5
}
